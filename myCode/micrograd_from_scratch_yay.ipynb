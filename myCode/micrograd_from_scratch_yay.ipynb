{
 "cells": [
  {
   "cell_type": "code",
   "execution_count": 4,
   "metadata": {},
   "outputs": [],
   "source": [
    "import math\n",
    "import numpy as np\n",
    "import matplotlib.pyplot as plt\n",
    "\n",
    "%matplotlib inline "
   ]
  },
  {
   "cell_type": "code",
   "execution_count": 5,
   "metadata": {},
   "outputs": [],
   "source": [
    "def f(x):\n",
    "    return 3*x**2 - 4*x + 5"
   ]
  },
  {
   "cell_type": "code",
   "execution_count": 6,
   "metadata": {},
   "outputs": [
    {
     "data": {
      "text/plain": [
       "20.0"
      ]
     },
     "execution_count": 6,
     "metadata": {},
     "output_type": "execute_result"
    }
   ],
   "source": [
    "f(3.0)"
   ]
  },
  {
   "cell_type": "code",
   "execution_count": 7,
   "metadata": {},
   "outputs": [
    {
     "data": {
      "text/plain": [
       "array([-5.  , -4.75, -4.5 , -4.25, -4.  , -3.75, -3.5 , -3.25, -3.  ,\n",
       "       -2.75, -2.5 , -2.25, -2.  , -1.75, -1.5 , -1.25, -1.  , -0.75,\n",
       "       -0.5 , -0.25,  0.  ,  0.25,  0.5 ,  0.75,  1.  ,  1.25,  1.5 ,\n",
       "        1.75,  2.  ,  2.25,  2.5 ,  2.75,  3.  ,  3.25,  3.5 ,  3.75,\n",
       "        4.  ,  4.25,  4.5 ,  4.75])"
      ]
     },
     "execution_count": 7,
     "metadata": {},
     "output_type": "execute_result"
    }
   ],
   "source": [
    "xs = np.arange(-5, 5, 0.25)\n",
    "xs"
   ]
  },
  {
   "cell_type": "code",
   "execution_count": 8,
   "metadata": {},
   "outputs": [
    {
     "data": {
      "text/plain": [
       "array([100.    ,  91.6875,  83.75  ,  76.1875,  69.    ,  62.1875,\n",
       "        55.75  ,  49.6875,  44.    ,  38.6875,  33.75  ,  29.1875,\n",
       "        25.    ,  21.1875,  17.75  ,  14.6875,  12.    ,   9.6875,\n",
       "         7.75  ,   6.1875,   5.    ,   4.1875,   3.75  ,   3.6875,\n",
       "         4.    ,   4.6875,   5.75  ,   7.1875,   9.    ,  11.1875,\n",
       "        13.75  ,  16.6875,  20.    ,  23.6875,  27.75  ,  32.1875,\n",
       "        37.    ,  42.1875,  47.75  ,  53.6875])"
      ]
     },
     "execution_count": 8,
     "metadata": {},
     "output_type": "execute_result"
    }
   ],
   "source": [
    "ys = f(xs)\n",
    "ys"
   ]
  },
  {
   "cell_type": "code",
   "execution_count": 9,
   "metadata": {},
   "outputs": [
    {
     "data": {
      "text/plain": [
       "[<matplotlib.lines.Line2D at 0x7f6c0e5bf520>]"
      ]
     },
     "execution_count": 9,
     "metadata": {},
     "output_type": "execute_result"
    },
    {
     "data": {
      "image/png": "[encoded data removed]",
      "text/plain": [
       "<Figure size 432x288 with 1 Axes>"
      ]
     },
     "metadata": {
      "needs_background": "light"
     },
     "output_type": "display_data"
    }
   ],
   "source": [
    "plt.plot(xs,ys)"
   ]
  },
  {
   "cell_type": "code",
   "execution_count": 55,
   "metadata": {},
   "outputs": [],
   "source": [
    "class Value:\n",
    "    def __init__(self, data, _children=(), _op='', label=''):\n",
    "        # use _children as a new variable for the connected tissues \n",
    "        # so that we can keep all these expression graphs\n",
    "        # => keep pointers about what values produce the other values\n",
    "\n",
    "        # children stores the values from which this value was produced\n",
    "        self.data = data\n",
    "        self.grad = 0.0\n",
    "        self._prev = set(_children)\n",
    "        self._op = _op # the op that produced this node\n",
    "        self.label = label # label for dot graph\n",
    "          \n",
    "    def __repr__(self):\n",
    "        return f\"Value(data={self.data})\" # similar to eval()\n",
    "    \n",
    "    def __add__(self, other):\n",
    "        out = Value(self.data + other.data, (self, other), '+')\n",
    "        return out\n",
    "    \n",
    "    def __mul__(self, other):\n",
    "        out = Value(self.data * other.data, (self, other), '+')\n",
    "        return out\n",
    "    \n",
    "\n"
   ]
  },
  {
   "cell_type": "code",
   "execution_count": 56,
   "metadata": {},
   "outputs": [
    {
     "data": {
      "text/plain": [
       "'+'"
      ]
     },
     "execution_count": 56,
     "metadata": {},
     "output_type": "execute_result"
    }
   ],
   "source": [
    "a = Value(2.0, label='a')\n",
    "b = Value(-3.0, label='b')\n",
    "# a + b # will internally call a.__add__(b)\n",
    "c = Value(10.0, label='c')\n",
    "e = a * b; \n",
    "e.label = 'e'\n",
    "d = e + c; \n",
    "d.label = 'd'\n",
    "f = Value(-2.0, label='f')\n",
    "L = d * f # the output of the NN\n",
    "L.label = 'L'\n",
    "\n",
    "\n",
    "d = a * b + c # will internally call a.__mul__(b).__add__(c)\n",
    "d._prev # to check the children of this value\n",
    "d._op # to check the operation that produced this value"
   ]
  },
  {
   "cell_type": "code",
   "execution_count": 57,
   "metadata": {},
   "outputs": [],
   "source": [
    "from graphviz import Digraph\n",
    "\n",
    "def trace(root):\n",
    "  # builds a set of all nodes and edges in a graph\n",
    "  nodes, edges = set(), set()\n",
    "  def build(v):\n",
    "    if v not in nodes:\n",
    "      nodes.add(v)\n",
    "      for child in v._prev:\n",
    "        edges.add((child, v))\n",
    "        build(child)\n",
    "  build(root)\n",
    "  return nodes, edges\n",
    "\n",
    "def draw_dot(root):\n",
    "  dot = Digraph(format='svg', graph_attr={'rankdir': 'LR'}) # LR = left to right\n",
    "  \n",
    "  nodes, edges = trace(root)\n",
    "  for n in nodes:\n",
    "    uid = str(id(n))\n",
    "    # for any value in the graph, create a rectangular ('record') node for it\n",
    "    dot.node(name = uid, label = \"{ %s | data %.4f | grad %.4f }\" % (n.label, n.data, n.grad), shape='record')\n",
    "    if n._op:\n",
    "      # if this value is a result of some operation, create an op node for it\n",
    "      dot.node(name = uid + n._op, label = n._op)\n",
    "      # and connect this node to it\n",
    "      dot.edge(uid + n._op, uid)\n",
    "\n",
    "  for n1, n2 in edges:\n",
    "    # connect n1 to the op node of n2\n",
    "    dot.edge(str(id(n1)), str(id(n2)) + n2._op)\n",
    "\n",
    "  return dot\n"
   ]
  },
  {
   "cell_type": "code",
   "execution_count": 58,
   "metadata": {},
   "outputs": [
    {
     "data": {
      "text/plain": [
       "'e'"
      ]
     },
     "execution_count": 58,
     "metadata": {},
     "output_type": "execute_result"
    }
   ],
   "source": [
    "L = d * f\n",
    "e.label\n"
   ]
  },
  {
   "cell_type": "code",
   "execution_count": 59,
   "metadata": {},
   "outputs": [],
   "source": [
    "L.grad = 1.0\n",
    "f.grad = 4.0 \n",
    "d.grad = -2.0\n",
    "\n",
    "c.grad = -2.0\n",
    "e.grad = -2.0\n",
    "\n",
    "a.grad = -2.0 * -3.0\n",
    "b.grad = -2.0 * 2.0"
   ]
  },
  {
   "cell_type": "code",
   "execution_count": 60,
   "metadata": {},
   "outputs": [
    {
     "data": {
      "image/svg+xml": [
       "<?xml version=\"1.0\" encoding=\"UTF-8\" standalone=\"no\"?>\n",
       "<!DOCTYPE svg PUBLIC \"-//W3C//DTD SVG 1.1//EN\"\n",
       " \"http://www.w3.org/Graphics/SVG/1.1/DTD/svg11.dtd\">\n",
       "<!-- Generated by graphviz version 2.43.0 (0)\n",
       " -->\n",
       "<!-- Title: %3 Pages: 1 -->\n",
       "<svg width=\"1335pt\" height=\"154pt\"\n",
       " viewBox=\"0.00 0.00 1335.00 154.00\" xmlns=\"http://www.w3.org/2000/svg\" xmlns:xlink=\"http://www.w3.org/1999/xlink\">\n",
       "<g id=\"graph0\" class=\"graph\" transform=\"scale(1 1) rotate(0) translate(4 150)\">\n",
       "<title>%3</title>\n",
       "<polygon fill=\"white\" stroke=\"transparent\" points=\"-4,4 -4,-150 1331,-150 1331,4 -4,4\"/>\n",
       "<!-- 140102073911808 -->\n",
       "<g id=\"node1\" class=\"node\">\n",
       "<title>140102073911808</title>\n",
       "<polygon fill=\"none\" stroke=\"black\" points=\"737,-54.5 737,-90.5 968,-90.5 968,-54.5 737,-54.5\"/>\n",
       "<text text-anchor=\"middle\" x=\"747.5\" y=\"-68.8\" font-family=\"Times,serif\" font-size=\"14.00\"> </text>\n",
       "<polyline fill=\"none\" stroke=\"black\" points=\"758,-54.5 758,-90.5 \"/>\n",
       "<text text-anchor=\"middle\" x=\"809\" y=\"-68.8\" font-family=\"Times,serif\" font-size=\"14.00\">data 4.0000</text>\n",
       "<polyline fill=\"none\" stroke=\"black\" points=\"860,-54.5 860,-90.5 \"/>\n",
       "<text text-anchor=\"middle\" x=\"914\" y=\"-68.8\" font-family=\"Times,serif\" font-size=\"14.00\">grad &#45;2.0000</text>\n",
       "</g>\n",
       "<!-- 140102073805984+ -->\n",
       "<g id=\"node9\" class=\"node\">\n",
       "<title>140102073805984+</title>\n",
       "<ellipse fill=\"none\" stroke=\"black\" cx=\"1032\" cy=\"-99.5\" rx=\"27\" ry=\"18\"/>\n",
       "<text text-anchor=\"middle\" x=\"1032\" y=\"-95.8\" font-family=\"Times,serif\" font-size=\"14.00\">+</text>\n",
       "</g>\n",
       "<!-- 140102073911808&#45;&gt;140102073805984+ -->\n",
       "<g id=\"edge8\" class=\"edge\">\n",
       "<title>140102073911808&#45;&gt;140102073805984+</title>\n",
       "<path fill=\"none\" stroke=\"black\" d=\"M968.42,-89.98C977.97,-91.43 987.07,-92.82 995.23,-94.06\"/>\n",
       "<polygon fill=\"black\" stroke=\"black\" points=\"994.96,-97.56 1005.37,-95.6 996.01,-90.64 994.96,-97.56\"/>\n",
       "</g>\n",
       "<!-- 140102073911808+ -->\n",
       "<g id=\"node2\" class=\"node\">\n",
       "<title>140102073911808+</title>\n",
       "<ellipse fill=\"none\" stroke=\"black\" cx=\"673\" cy=\"-72.5\" rx=\"27\" ry=\"18\"/>\n",
       "<text text-anchor=\"middle\" x=\"673\" y=\"-68.8\" font-family=\"Times,serif\" font-size=\"14.00\">+</text>\n",
       "</g>\n",
       "<!-- 140102073911808+&#45;&gt;140102073911808 -->\n",
       "<g id=\"edge1\" class=\"edge\">\n",
       "<title>140102073911808+&#45;&gt;140102073911808</title>\n",
       "<path fill=\"none\" stroke=\"black\" d=\"M700.19,-72.5C707.85,-72.5 716.77,-72.5 726.38,-72.5\"/>\n",
       "<polygon fill=\"black\" stroke=\"black\" points=\"726.62,-76 736.62,-72.5 726.62,-69 726.62,-76\"/>\n",
       "</g>\n",
       "<!-- 140102073975856 -->\n",
       "<g id=\"node3\" class=\"node\">\n",
       "<title>140102073975856</title>\n",
       "<polygon fill=\"none\" stroke=\"black\" points=\"0,-55.5 0,-91.5 241,-91.5 241,-55.5 0,-55.5\"/>\n",
       "<text text-anchor=\"middle\" x=\"13\" y=\"-69.8\" font-family=\"Times,serif\" font-size=\"14.00\">b</text>\n",
       "<polyline fill=\"none\" stroke=\"black\" points=\"26,-55.5 26,-91.5 \"/>\n",
       "<text text-anchor=\"middle\" x=\"79.5\" y=\"-69.8\" font-family=\"Times,serif\" font-size=\"14.00\">data &#45;3.0000</text>\n",
       "<polyline fill=\"none\" stroke=\"black\" points=\"133,-55.5 133,-91.5 \"/>\n",
       "<text text-anchor=\"middle\" x=\"187\" y=\"-69.8\" font-family=\"Times,serif\" font-size=\"14.00\">grad &#45;4.0000</text>\n",
       "</g>\n",
       "<!-- 140102073977968+ -->\n",
       "<g id=\"node7\" class=\"node\">\n",
       "<title>140102073977968+</title>\n",
       "<ellipse fill=\"none\" stroke=\"black\" cx=\"304\" cy=\"-45.5\" rx=\"27\" ry=\"18\"/>\n",
       "<text text-anchor=\"middle\" x=\"304\" y=\"-41.8\" font-family=\"Times,serif\" font-size=\"14.00\">+</text>\n",
       "</g>\n",
       "<!-- 140102073975856&#45;&gt;140102073977968+ -->\n",
       "<g id=\"edge5\" class=\"edge\">\n",
       "<title>140102073975856&#45;&gt;140102073977968+</title>\n",
       "<path fill=\"none\" stroke=\"black\" d=\"M238.24,-55.49C248.61,-53.89 258.49,-52.37 267.27,-51.01\"/>\n",
       "<polygon fill=\"black\" stroke=\"black\" points=\"268.03,-54.44 277.38,-49.45 266.97,-47.52 268.03,-54.44\"/>\n",
       "</g>\n",
       "<!-- 140102073976384 -->\n",
       "<g id=\"node4\" class=\"node\">\n",
       "<title>140102073976384</title>\n",
       "<polygon fill=\"none\" stroke=\"black\" points=\"5,-0.5 5,-36.5 236,-36.5 236,-0.5 5,-0.5\"/>\n",
       "<text text-anchor=\"middle\" x=\"17.5\" y=\"-14.8\" font-family=\"Times,serif\" font-size=\"14.00\">a</text>\n",
       "<polyline fill=\"none\" stroke=\"black\" points=\"30,-0.5 30,-36.5 \"/>\n",
       "<text text-anchor=\"middle\" x=\"81\" y=\"-14.8\" font-family=\"Times,serif\" font-size=\"14.00\">data 2.0000</text>\n",
       "<polyline fill=\"none\" stroke=\"black\" points=\"132,-0.5 132,-36.5 \"/>\n",
       "<text text-anchor=\"middle\" x=\"184\" y=\"-14.8\" font-family=\"Times,serif\" font-size=\"14.00\">grad 6.0000</text>\n",
       "</g>\n",
       "<!-- 140102073976384&#45;&gt;140102073977968+ -->\n",
       "<g id=\"edge6\" class=\"edge\">\n",
       "<title>140102073976384&#45;&gt;140102073977968+</title>\n",
       "<path fill=\"none\" stroke=\"black\" d=\"M236.19,-35.56C247.37,-37.22 258.02,-38.81 267.41,-40.21\"/>\n",
       "<polygon fill=\"black\" stroke=\"black\" points=\"267.02,-43.69 277.43,-41.7 268.05,-36.76 267.02,-43.69\"/>\n",
       "</g>\n",
       "<!-- 140102073976912 -->\n",
       "<g id=\"node5\" class=\"node\">\n",
       "<title>140102073976912</title>\n",
       "<polygon fill=\"none\" stroke=\"black\" points=\"367,-82.5 367,-118.5 610,-118.5 610,-82.5 367,-82.5\"/>\n",
       "<text text-anchor=\"middle\" x=\"379\" y=\"-96.8\" font-family=\"Times,serif\" font-size=\"14.00\">c</text>\n",
       "<polyline fill=\"none\" stroke=\"black\" points=\"391,-82.5 391,-118.5 \"/>\n",
       "<text text-anchor=\"middle\" x=\"446.5\" y=\"-96.8\" font-family=\"Times,serif\" font-size=\"14.00\">data 10.0000</text>\n",
       "<polyline fill=\"none\" stroke=\"black\" points=\"502,-82.5 502,-118.5 \"/>\n",
       "<text text-anchor=\"middle\" x=\"556\" y=\"-96.8\" font-family=\"Times,serif\" font-size=\"14.00\">grad &#45;2.0000</text>\n",
       "</g>\n",
       "<!-- 140102073976912&#45;&gt;140102073911808+ -->\n",
       "<g id=\"edge7\" class=\"edge\">\n",
       "<title>140102073976912&#45;&gt;140102073911808+</title>\n",
       "<path fill=\"none\" stroke=\"black\" d=\"M606.89,-82.49C617.53,-80.86 627.65,-79.3 636.61,-77.93\"/>\n",
       "<polygon fill=\"black\" stroke=\"black\" points=\"637.2,-81.38 646.55,-76.4 636.14,-74.46 637.2,-81.38\"/>\n",
       "</g>\n",
       "<!-- 140102073977968 -->\n",
       "<g id=\"node6\" class=\"node\">\n",
       "<title>140102073977968</title>\n",
       "<polygon fill=\"none\" stroke=\"black\" points=\"372.5,-27.5 372.5,-63.5 604.5,-63.5 604.5,-27.5 372.5,-27.5\"/>\n",
       "<text text-anchor=\"middle\" x=\"383\" y=\"-41.8\" font-family=\"Times,serif\" font-size=\"14.00\"> </text>\n",
       "<polyline fill=\"none\" stroke=\"black\" points=\"393.5,-27.5 393.5,-63.5 \"/>\n",
       "<text text-anchor=\"middle\" x=\"447\" y=\"-41.8\" font-family=\"Times,serif\" font-size=\"14.00\">data &#45;6.0000</text>\n",
       "<polyline fill=\"none\" stroke=\"black\" points=\"500.5,-27.5 500.5,-63.5 \"/>\n",
       "<text text-anchor=\"middle\" x=\"552.5\" y=\"-41.8\" font-family=\"Times,serif\" font-size=\"14.00\">grad 0.0000</text>\n",
       "</g>\n",
       "<!-- 140102073977968&#45;&gt;140102073911808+ -->\n",
       "<g id=\"edge4\" class=\"edge\">\n",
       "<title>140102073977968&#45;&gt;140102073911808+</title>\n",
       "<path fill=\"none\" stroke=\"black\" d=\"M604.56,-62.52C615.94,-64.21 626.79,-65.81 636.32,-67.22\"/>\n",
       "<polygon fill=\"black\" stroke=\"black\" points=\"636.09,-70.73 646.5,-68.73 637.12,-63.8 636.09,-70.73\"/>\n",
       "</g>\n",
       "<!-- 140102073977968+&#45;&gt;140102073977968 -->\n",
       "<g id=\"edge2\" class=\"edge\">\n",
       "<title>140102073977968+&#45;&gt;140102073977968</title>\n",
       "<path fill=\"none\" stroke=\"black\" d=\"M331.15,-45.5C339.99,-45.5 350.54,-45.5 361.91,-45.5\"/>\n",
       "<polygon fill=\"black\" stroke=\"black\" points=\"362.11,-49 372.11,-45.5 362.11,-42 362.11,-49\"/>\n",
       "</g>\n",
       "<!-- 140102073805984 -->\n",
       "<g id=\"node8\" class=\"node\">\n",
       "<title>140102073805984</title>\n",
       "<polygon fill=\"none\" stroke=\"black\" points=\"1095,-81.5 1095,-117.5 1327,-117.5 1327,-81.5 1095,-81.5\"/>\n",
       "<text text-anchor=\"middle\" x=\"1105.5\" y=\"-95.8\" font-family=\"Times,serif\" font-size=\"14.00\"> </text>\n",
       "<polyline fill=\"none\" stroke=\"black\" points=\"1116,-81.5 1116,-117.5 \"/>\n",
       "<text text-anchor=\"middle\" x=\"1169.5\" y=\"-95.8\" font-family=\"Times,serif\" font-size=\"14.00\">data &#45;8.0000</text>\n",
       "<polyline fill=\"none\" stroke=\"black\" points=\"1223,-81.5 1223,-117.5 \"/>\n",
       "<text text-anchor=\"middle\" x=\"1275\" y=\"-95.8\" font-family=\"Times,serif\" font-size=\"14.00\">grad 1.0000</text>\n",
       "</g>\n",
       "<!-- 140102073805984+&#45;&gt;140102073805984 -->\n",
       "<g id=\"edge3\" class=\"edge\">\n",
       "<title>140102073805984+&#45;&gt;140102073805984</title>\n",
       "<path fill=\"none\" stroke=\"black\" d=\"M1059.12,-99.5C1066.53,-99.5 1075.14,-99.5 1084.4,-99.5\"/>\n",
       "<polygon fill=\"black\" stroke=\"black\" points=\"1084.69,-103 1094.69,-99.5 1084.69,-96 1084.69,-103\"/>\n",
       "</g>\n",
       "<!-- 140103547875632 -->\n",
       "<g id=\"node10\" class=\"node\">\n",
       "<title>140103547875632</title>\n",
       "<polygon fill=\"none\" stroke=\"black\" points=\"736,-109.5 736,-145.5 969,-145.5 969,-109.5 736,-109.5\"/>\n",
       "<text text-anchor=\"middle\" x=\"747\" y=\"-123.8\" font-family=\"Times,serif\" font-size=\"14.00\">f</text>\n",
       "<polyline fill=\"none\" stroke=\"black\" points=\"758,-109.5 758,-145.5 \"/>\n",
       "<text text-anchor=\"middle\" x=\"811.5\" y=\"-123.8\" font-family=\"Times,serif\" font-size=\"14.00\">data &#45;2.0000</text>\n",
       "<polyline fill=\"none\" stroke=\"black\" points=\"865,-109.5 865,-145.5 \"/>\n",
       "<text text-anchor=\"middle\" x=\"917\" y=\"-123.8\" font-family=\"Times,serif\" font-size=\"14.00\">grad 4.0000</text>\n",
       "</g>\n",
       "<!-- 140103547875632&#45;&gt;140102073805984+ -->\n",
       "<g id=\"edge9\" class=\"edge\">\n",
       "<title>140103547875632&#45;&gt;140102073805984+</title>\n",
       "<path fill=\"none\" stroke=\"black\" d=\"M967.67,-109.49C977.61,-107.92 987.08,-106.43 995.53,-105.1\"/>\n",
       "<polygon fill=\"black\" stroke=\"black\" points=\"996.31,-108.52 1005.64,-103.5 995.22,-101.6 996.31,-108.52\"/>\n",
       "</g>\n",
       "</g>\n",
       "</svg>\n"
      ],
      "text/plain": [
       "<graphviz.graphs.Digraph at 0x7f6c0e576e80>"
      ]
     },
     "execution_count": 60,
     "metadata": {},
     "output_type": "execute_result"
    }
   ],
   "source": [
    "draw_dot(L)"
   ]
  },
  {
   "cell_type": "code",
   "execution_count": 61,
   "metadata": {},
   "outputs": [
    {
     "name": "stdout",
     "output_type": "stream",
     "text": [
      "0.0\n"
     ]
    }
   ],
   "source": [
    "def lol():\n",
    "    # just to not mess up the global values\n",
    "    h = 0.001\n",
    "  \n",
    "    a = Value(2.0, label='a')\n",
    "    b = Value(-3.0, label='b')\n",
    "    c = Value(10.0, label='c')\n",
    "    e = a*b; e.label = 'e'\n",
    "    d = e + c; d.label = 'd'\n",
    "    f = Value(-2.0, label='f')\n",
    "    L = d * f; L.label = 'L'\n",
    "    L1 = L.data\n",
    "\n",
    "    a = Value(2.0 , label='a')\n",
    "    b = Value(-3.0, label='b')\n",
    "    c = Value(10.0, label='c')\n",
    "    e = a*b; e.label = 'e'\n",
    "    d.data += h\n",
    "    d = e + c; d.label = 'd'\n",
    "    f = Value(-2.0, label='f')\n",
    "    L = d * f; L.label = 'L'\n",
    "    L2 = L.data\n",
    "\n",
    "    print((L2 - L1)/h)\n",
    "lol()"
   ]
  },
  {
   "cell_type": "code",
   "execution_count": null,
   "metadata": {},
   "outputs": [],
   "source": []
  }
 ],
 "metadata": {
  "kernelspec": {
   "display_name": "Python 3",
   "language": "python",
   "name": "python3"
  },
  "language_info": {
   "codemirror_mode": {
    "name": "ipython",
    "version": 3
   },
   "file_extension": ".py",
   "mimetype": "text/x-python",
   "name": "python",
   "nbconvert_exporter": "python",
   "pygments_lexer": "ipython3",
   "version": "3.8.10"
  },
  "orig_nbformat": 4
 },
 "nbformat": 4,
 "nbformat_minor": 2
}
